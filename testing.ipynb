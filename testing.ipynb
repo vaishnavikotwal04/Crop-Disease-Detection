{
  "cells": [
    {
      "cell_type": "markdown",
      "metadata": {
        "id": "view-in-github",
        "colab_type": "text"
      },
      "source": [
        "<a href=\"https://colab.research.google.com/github/vaishnavikotwal04/Crop-Disease-Detection/blob/main/testing.ipynb\" target=\"_parent\"><img src=\"https://colab.research.google.com/assets/colab-badge.svg\" alt=\"Open In Colab\"/></a>"
      ]
    },
    {
      "cell_type": "code",
      "execution_count": 2,
      "metadata": {
        "id": "XPOc2fgEZCAj",
        "colab": {
          "base_uri": "https://localhost:8080/"
        },
        "outputId": "2bf5daa7-3a67-4bac-aa3b-1b1c259e0fc6"
      },
      "outputs": [
        {
          "output_type": "stream",
          "name": "stdout",
          "text": [
            "\u001b[2K     \u001b[90m━━━━━━━━━━━━━━━━━━━━━━━━━━━━━━━━━━━━━━━━\u001b[0m \u001b[32m44.3/44.3 kB\u001b[0m \u001b[31m1.7 MB/s\u001b[0m eta \u001b[36m0:00:00\u001b[0m\n",
            "\u001b[2K   \u001b[90m━━━━━━━━━━━━━━━━━━━━━━━━━━━━━━━━━━━━━━━━\u001b[0m \u001b[32m9.1/9.1 MB\u001b[0m \u001b[31m55.4 MB/s\u001b[0m eta \u001b[36m0:00:00\u001b[0m\n",
            "\u001b[2K   \u001b[90m━━━━━━━━━━━━━━━━━━━━━━━━━━━━━━━━━━━━━━━━\u001b[0m \u001b[32m6.9/6.9 MB\u001b[0m \u001b[31m90.2 MB/s\u001b[0m eta \u001b[36m0:00:00\u001b[0m\n",
            "\u001b[2K   \u001b[90m━━━━━━━━━━━━━━━━━━━━━━━━━━━━━━━━━━━━━━━━\u001b[0m \u001b[32m79.1/79.1 kB\u001b[0m \u001b[31m6.9 MB/s\u001b[0m eta \u001b[36m0:00:00\u001b[0m\n",
            "\u001b[?25h"
          ]
        }
      ],
      "source": [
        "!pip install -q streamlit"
      ]
    },
    {
      "cell_type": "code",
      "execution_count": 1,
      "metadata": {
        "colab": {
          "base_uri": "https://localhost:8080/"
        },
        "id": "YWGHyqvvgJck",
        "outputId": "fa524b44-2f0b-462a-b0ac-adc07afb92cc"
      },
      "outputs": [
        {
          "output_type": "stream",
          "name": "stdout",
          "text": [
            "\u001b[1G\u001b[0K⠙\u001b[1G\u001b[0K⠹\u001b[1G\u001b[0K⠸\u001b[1G\u001b[0K⠼\u001b[1G\u001b[0K⠴\u001b[1G\u001b[0K⠦\u001b[1G\u001b[0K⠧\u001b[1G\u001b[0K⠇\u001b[1G\u001b[0K⠏\u001b[1G\u001b[0K⠋\u001b[1G\u001b[0K⠙\u001b[1G\u001b[0K⠹\u001b[1G\u001b[0K⠸\u001b[1G\u001b[0K⠼\u001b[1G\u001b[0K⠴\u001b[1G\u001b[0K⠦\u001b[1G\u001b[0K⠧\u001b[1G\u001b[0K⠇\u001b[1G\u001b[0K⠏\u001b[1G\u001b[0K⠋\u001b[1G\u001b[0K⠙\u001b[1G\u001b[0K⠹\u001b[1G\u001b[0K⠸\u001b[1G\u001b[0K⠼\u001b[1G\u001b[0K⠴\u001b[1G\u001b[0K⠦\u001b[1G\u001b[0K⠧\u001b[1G\u001b[0K\n",
            "added 22 packages in 3s\n",
            "\u001b[1G\u001b[0K⠧\u001b[1G\u001b[0K\n",
            "\u001b[1G\u001b[0K⠧\u001b[1G\u001b[0K3 packages are looking for funding\n",
            "\u001b[1G\u001b[0K⠧\u001b[1G\u001b[0K  run `npm fund` for details\n",
            "\u001b[1G\u001b[0K⠧\u001b[1G\u001b[0K"
          ]
        }
      ],
      "source": [
        "!npm install localtunnel"
      ]
    },
    {
      "cell_type": "code",
      "source": [
        "%%writefile app.py\n",
        "\n",
        "\n",
        "import streamlit as st\n",
        "import tensorflow as tf\n",
        "import numpy as np\n",
        "import os\n",
        "\n",
        "# Function to load model\n",
        "def load_model():\n",
        "    try:\n",
        "        model_path = '/content/graph.hdf5'  # Update this to your model file path if necessary\n",
        "        if not os.path.exists(model_path):\n",
        "            st.error(f\"Model file not found: {model_path}\")\n",
        "            return None\n",
        "        model = tf.keras.models.load_model(model_path, compile=False)\n",
        "        return model\n",
        "    except Exception as e:\n",
        "        st.error(f\"Error loading the model: {e}\")\n",
        "        return None\n",
        "\n",
        "# TensorFlow Model Prediction\n",
        "def model_prediction(model, test_image):\n",
        "    try:\n",
        "        image = tf.keras.preprocessing.image.load_img(test_image, target_size=(256, 256))  # Ensure target size matches your model's input size\n",
        "        input_arr = tf.keras.preprocessing.image.img_to_array(image)\n",
        "        input_arr = np.array([input_arr])  # Convert single image to batch\n",
        "        predictions = model.predict(input_arr)\n",
        "        return np.argmax(predictions)  # Return index of max element\n",
        "    except Exception as e:\n",
        "        st.error(f\"Error during prediction: {e}\")\n",
        "        return None\n",
        "\n",
        "# Load model once at the start\n",
        "model = load_model()\n",
        "\n",
        "# Sidebar\n",
        "st.sidebar.title(\"Dashboard\")\n",
        "app_mode = st.sidebar.selectbox(\"Select Page\", [\"Home\", \"About\", \"Disease Recognition\"])\n",
        "\n",
        "# Main Page\n",
        "if app_mode == \"Home\":\n",
        "    st.header(\"GRAPES DISEASES RECOGNITION SYSTEM\")\n",
        "    image_path = \"/content/drone.jpg\"\n",
        "    if os.path.exists(image_path):\n",
        "        st.image(image_path, use_column_width=True)\n",
        "    else:\n",
        "        st.warning(\"Home page image not found.\")\n",
        "    st.markdown(\"\"\"\n",
        "    Welcome to the Grapes Diseases Recognition System! 🌿🔍\n",
        "\n",
        "    Our mission is to help in identifying plant diseases efficiently. Upload an image of a plant, and our system will analyze it to detect any signs of diseases. Together, let's protect our crops and ensure a healthier harvest!\n",
        "\n",
        "    ### How It Works\n",
        "    1. **Upload Image:** Go to the **Disease Recognition** page and upload an image of a plant with suspected diseases.\n",
        "    2. **Analysis:** Our system will process the image using advanced algorithms to identify potential diseases.\n",
        "    3. **Results:** View the results and recommendations for further action.\n",
        "\n",
        "    ### Why Choose Us?\n",
        "    - **Accuracy:** Our system utilizes state-of-the-art machine learning techniques for accurate disease detection.\n",
        "    - **User-Friendly:** Simple and intuitive interface for seamless user experience.\n",
        "    - **Fast and Efficient:** Receive results in seconds, allowing for quick decision-making.\n",
        "\n",
        "    ### Get Started\n",
        "    Click on the **Disease Recognition** page in the sidebar to upload an image and experience the power of our Grapes Diseases Recognition System!\n",
        "\n",
        "    ### About Us\n",
        "    Learn more about the dataset, our team, and our goals on the **About** page.\n",
        "    \"\"\")\n",
        "\n",
        "# About Project\n",
        "elif app_mode == \"About\":\n",
        "    st.header(\"About\")\n",
        "    st.markdown(\"\"\"\n",
        "    #### Our Team\n",
        "\n",
        "    1. Vaishnavi Kotwal\n",
        "    2. Tejashree Khadangale\n",
        "    3. Dhanashree Bhoyate\n",
        "    4. Madhuri Chavan\n",
        "\n",
        "    #### Our Goals\n",
        "    **A. Present Goals**\n",
        "\n",
        "    1. Accurate Disease Detection:\n",
        "\n",
        "    Deploy a reliable CNN model for grape disease detection.\n",
        "    Ensure real-time image processing with a maximum latency of 5-10 seconds.\n",
        "\n",
        "    2. User-Friendly Interface:\n",
        "\n",
        "    Develop an intuitive interface accessible via web browsers and mobile applications.\n",
        "    Incorporate interactive maps, dashboards, and data visualization tools.\n",
        "\n",
        "    3. Seamless Drone Integration:\n",
        "\n",
        "    Ensure efficient data collection with drones equipped with high-resolution cameras and GPS.\n",
        "    Implement autonomous drone operations for routine surveillance and data capture.\n",
        "\n",
        "    **B. Future Goals**\n",
        "\n",
        "    1. Enhanced Disease Detection and Analysis:\n",
        "\n",
        "    Continuously improve AI models for greater accuracy and reliability.\n",
        "    Expand detection capabilities to include more types of diseases and pests.\n",
        "\n",
        "    2. Scalability and Expansion:\n",
        "\n",
        "    Scale the system to handle large vineyards with thousands of grapevines.\n",
        "    Expand the system's reach globally, adapting to different grape varieties and growing conditions.\n",
        "\n",
        "    3. Integrated Vineyard Management:\n",
        "\n",
        "    Integrate with other vineyard management tools for a comprehensive solution.\n",
        "    Develop automated spraying mechanisms to precisely target infected areas.\n",
        "\n",
        "    #### About Dataset\n",
        "    This dataset is recreated using offline augmentation from the original dataset.The original dataset can be found on this kaggle repo.\n",
        "    This dataset consists of about 4500 rgb images of healthy and diseased crop leaves which is categorized into 4 different classes.The total dataset is divided into 80/20 ratio of training and validation set preserving the directory structure.\n",
        "    A new directory containing 30 test images is created later for prediction purpose.\n",
        "    #### Content\n",
        "    1. train (4000 images)\n",
        "    2. test (30 images)\n",
        "    \"\"\")\n",
        "\n",
        "# Prediction Page\n",
        "elif app_mode == \"Disease Recognition\":\n",
        "    st.header(\"Disease Recognition\")\n",
        "\n",
        "    # Image uploader\n",
        "    st.subheader(\"Upload Image\")\n",
        "    test_image = st.file_uploader(\"Choose an Image:\", type=[\"jpg\", \"jpeg\", \"png\"])\n",
        "\n",
        "    if st.button(\"Show Image\"):\n",
        "        if test_image is not None:\n",
        "            st.image(test_image, use_column_width=True)\n",
        "        else:\n",
        "            st.warning(\"Please upload an image first.\")\n",
        "\n",
        "    # Predict button\n",
        "    if st.button(\"Predict\"):\n",
        "        if test_image is not None and model is not None:\n",
        "            st.snow()\n",
        "            st.write(\"Our Prediction\")\n",
        "            result_index = model_prediction(model, test_image)\n",
        "            if result_index is not None:\n",
        "                # Reading Labels\n",
        "                class_name = ['Grape___Black_rot', 'Grape___Esca_(Black_Measles)', 'Grape___Leaf_blight_(Isariopsis_Leaf_Spot)', 'Grape___healthy']\n",
        "                st.success(\"Model is Predicting it's a {}\".format(class_name[result_index]))\n",
        "            else:\n",
        "                st.error(\"Failed to make a prediction.\")\n",
        "        elif model is None:\n",
        "            st.warning(\"Model failed to load.\")\n",
        "        else:\n",
        "            st.warning(\"Please upload an image first.\")\n",
        "\n"
      ],
      "metadata": {
        "colab": {
          "base_uri": "https://localhost:8080/"
        },
        "id": "EEiqfEyASjiu",
        "outputId": "1d9a4f4d-c182-43ab-d6d6-08a2ba40d82b"
      },
      "execution_count": 9,
      "outputs": [
        {
          "output_type": "stream",
          "name": "stdout",
          "text": [
            "Overwriting app.py\n"
          ]
        }
      ]
    },
    {
      "cell_type": "code",
      "source": [
        "import urllib\n",
        "print(\"Password/Endpoint IP for localtunnel is:\", urllib.request.urlopen('https://ipv4.icanhazip.com').read().decode('utf8').strip(\"\\n\"))\n",
        "\n",
        "!streamlit run app.py &>/content/logs.txt &\n",
        "!npx localtunnel --port 8501\n"
      ],
      "metadata": {
        "id": "zXOBFWfzUwZ1",
        "colab": {
          "base_uri": "https://localhost:8080/"
        },
        "outputId": "6d37019b-15fd-421d-d601-c6f158880d1c"
      },
      "execution_count": 10,
      "outputs": [
        {
          "output_type": "stream",
          "name": "stdout",
          "text": [
            "Password/Endpoint IP for localtunnel is: 34.106.201.88\n",
            "\u001b[1G\u001b[0K⠙\u001b[1G\u001b[0Kyour url is: https://quiet-comics-greet.loca.lt\n",
            "^C\n"
          ]
        }
      ]
    }
  ],
  "metadata": {
    "accelerator": "GPU",
    "colab": {
      "gpuType": "T4",
      "provenance": [],
      "mount_file_id": "13OUFz3MnbHBhoEw99Qfvyx1R7NEqhyn0",
      "authorship_tag": "ABX9TyOL0gPREDetR0/bNTn3XFL8",
      "include_colab_link": true
    },
    "kernelspec": {
      "display_name": "Python 3",
      "name": "python3"
    },
    "language_info": {
      "name": "python"
    }
  },
  "nbformat": 4,
  "nbformat_minor": 0
}